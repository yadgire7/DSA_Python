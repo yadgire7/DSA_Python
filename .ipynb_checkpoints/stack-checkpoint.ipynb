{
 "cells": [
  {
   "cell_type": "markdown",
   "id": "6a86da1c",
   "metadata": {},
   "source": [
    "- Stack is a linear data structure\n",
    "- Follows LIFO priciple (Last In First Out) aka FILO\n",
    "- Inserting element = push\n",
    "- Deleting element = pop\n",
    "- pop from empty stack (underflow)\n",
    "- push into full stack = (overflow) ......... full stack.. hehe\n",
    "- Stack ADT:\n",
    "    basic operations:\n",
    "        a. push(data)\n",
    "        b. int pop()\n",
    "    other operations:\n",
    "        a. top() returns the last inserted element\n",
    "        b. size() returns the number of elements in the stack\n",
    "        c. isEmpty() checks whether the stack is empty\n",
    "        d. isFUll() checks whether the stack is full.\n",
    "           Note: isFull() can be used only if the stack is created statically (i.e it is fixed size, created using list(array)), if the stack is created dynamically (using linked list), then we will have to create a variable maximum_size and check if the limit is reached.\n",
    "\n",
    "- Applications: \n",
    "    * Balancing parenthesis\n",
    "    * infix to postfix\n",
    "    * implementing function calls\n",
    "    * Browing history in web browser\n",
    "    * undo feature in text editor"
   ]
  },
  {
   "cell_type": "markdown",
   "id": "24d66bf9",
   "metadata": {},
   "source": [
    "### Stack implementation using list (array)"
   ]
  },
  {
   "cell_type": "code",
   "execution_count": 1,
   "id": "d80c5a59",
   "metadata": {},
   "outputs": [],
   "source": [
    "class Stack:\n",
    "# dynamic stack using list (no overflow condition)    \n",
    "    stack=[]\n",
    "    def __init__(self, data=None):\n",
    "        self.data = data\n",
    "    \n",
    "    def isEmpty():\n",
    "        return len(stack)==0\n",
    "    \n",
    "    def getTop(self):\n",
    "        if isEmpty():\n",
    "            print(\"Stack is empty!\\n\")\n",
    "        else:\n",
    "            return stack[len(stack)-1]\n",
    "    \n",
    "    \n",
    "    def push(self,data):\n",
    "        self.stack.append(data)\n",
    "        print(f\"{data} pushed onto the stack!\\n\")\n",
    "    \n",
    "    def pop(self):\n",
    "        if isEmpty():\n",
    "            print(\"Stack is empty!\\n\")\n",
    "        else:\n",
    "            ele = self.stack[len(self.stack)-1]\n",
    "            del self.stack[len(self.stack)-1]\n",
    "            return ele\n",
    "    "
   ]
  },
  {
   "cell_type": "code",
   "execution_count": null,
   "id": "4db6f68a",
   "metadata": {},
   "outputs": [],
   "source": []
  }
 ],
 "metadata": {
  "kernelspec": {
   "display_name": "Python 3",
   "language": "python",
   "name": "python3"
  },
  "language_info": {
   "codemirror_mode": {
    "name": "ipython",
    "version": 3
   },
   "file_extension": ".py",
   "mimetype": "text/x-python",
   "name": "python",
   "nbconvert_exporter": "python",
   "pygments_lexer": "ipython3",
   "version": "3.8.8"
  }
 },
 "nbformat": 4,
 "nbformat_minor": 5
}
