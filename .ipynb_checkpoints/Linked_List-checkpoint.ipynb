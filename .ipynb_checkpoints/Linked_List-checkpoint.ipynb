{
 "cells": [
  {
   "cell_type": "markdown",
   "id": "19ff5641",
   "metadata": {},
   "source": [
    "Implementation of linked list using python"
   ]
  },
  {
   "cell_type": "markdown",
   "id": "6e5a1601",
   "metadata": {},
   "source": [
    "Linked list can be used in handling sequential data when the size of the data is not known before hand (eg. )"
   ]
  },
  {
   "cell_type": "code",
   "execution_count": 1,
   "id": "ec24ae25",
   "metadata": {},
   "outputs": [],
   "source": [
    "\n",
    "class Node:\n",
    "    #constructor\n",
    "    def __init__(self, data=None, next=None):\n",
    "        self.data=data\n",
    "        self.next=next\n",
    "        \n",
    "class SinglyLinkedList():\n",
    "    def __init__(self):\n",
    "        self.head=None\n",
    "        \n",
    "    def isEmpty(self):\n",
    "        return self.head==None\n",
    "    \n",
    "    def insertAtBeg(self,data):\n",
    "        node = Node(data,self.head)\n",
    "        if self.isEmpty():\n",
    "            self.head=node\n",
    "            node.next=None\n",
    "            print(\"List was empty initially, node inserted!!\\n\")\n",
    "            self.printList()\n",
    "        else:\n",
    "            node.next=self.head\n",
    "            self.head=node\n",
    "            print(\"Node inserted at the beginning!\\n\")\n",
    "              \n",
    "    def insertAtEnd(self,data):\n",
    "        node = Node(data,self.head)\n",
    "        if self.isEmpty():\n",
    "            node.next=None\n",
    "            self.head=node\n",
    "            print(\"List was empty initially, node inserted!!\\n\")\n",
    "        else:\n",
    "            itr = self.head\n",
    "            while itr.next is not None:\n",
    "                itr=itr.next\n",
    "            node.next=None\n",
    "            itr.next=node\n",
    "            print(\"Node inserted at the end!\\n\")\n",
    "           \n",
    "    def insertAtPos(self,pos,data):\n",
    "        count=0\n",
    "        if self.isEmpty():\n",
    "            print(\"Linked List is empty, node added!\\n\")\n",
    "            self.insertAtEnd(data)\n",
    "        elif pos>self.lenOfList()+1 or pos<0:\n",
    "            print(\"Position out of bound. Insert a valid position.\\n\")\n",
    "        else:\n",
    "            itr =self.head\n",
    "            count=1\n",
    "            temp = Node()\n",
    "            while count != pos-1:\n",
    "                itr= itr.next\n",
    "                count+=1\n",
    "            temp.data=data\n",
    "            temp.next = itr.next\n",
    "            itr.next = temp\n",
    "            print(f\"Node inserted at position {pos}!\\n\")\n",
    "                \n",
    "    def deleteFromBeg(self):\n",
    "        temp = Node()\n",
    "        if self.isEmpty():\n",
    "            print(\"Nothing to delete, list is empty.\\n\")\n",
    "        else:\n",
    "            temp = self.head.next\n",
    "            del self.head\n",
    "            self.head=temp\n",
    "            \n",
    "    def lenOfList(self):\n",
    "        size = 0\n",
    "        if self.isEmpty():\n",
    "            return size\n",
    "        else:\n",
    "            itr = self.head\n",
    "            while itr.next is not None:\n",
    "                size+=1\n",
    "                itr=itr.next\n",
    "        return size  \n",
    "                \n",
    "            \n",
    "    def deleteFromEnd(self):\n",
    "        if self.isEmpty():\n",
    "            print(\"Nothing to delete, list is empty.\\n\")\n",
    "        else:\n",
    "            itr = self.head\n",
    "            while itr.next.next is not None:\n",
    "                itr=itr.next\n",
    "            del itr.next.next\n",
    "            itr.next=None\n",
    "            \n",
    "    def deleteFromPos(self,pos):\n",
    "        count = 0\n",
    "        if self.isEmpty():\n",
    "            print(\"Nothing to delete, list is empty.\\n\")\n",
    "        elif pos>self.lenOfList()+1 or pos<0:\n",
    "            print(\"Position out of bound. Insert a valid position.\\n\")\n",
    "        elif pos==1:\n",
    "            self.deleteFromBeg()\n",
    "        elif pos==self.lenOfList():\n",
    "            self.deleteFromEnd()\n",
    "        else:\n",
    "            prev =None\n",
    "            current = self.head\n",
    "            count = 1\n",
    "            temp = Node()\n",
    "            while count!=pos:\n",
    "                prev=current\n",
    "                current=current.next\n",
    "                count+=1\n",
    "            prev.next=current.next\n",
    "            del current\n",
    "            print(f\"Node deleted from position {pos}!\\n\")\n",
    "            self.printList()\n",
    "    \n",
    "    def printList(self):\n",
    "        lst=''\n",
    "        joiner='-->'\n",
    "        if self.isEmpty():\n",
    "            print('List is empty!\\n')\n",
    "            return\n",
    "        else:\n",
    "            itr = self.head\n",
    "            while itr:\n",
    "                lst+=str(itr.data)\n",
    "                if itr.next is not None:\n",
    "                    lst=lst+joiner\n",
    "                itr=itr.next\n",
    "                \n",
    "            return lst"
   ]
  },
  {
   "cell_type": "code",
   "execution_count": 2,
   "id": "6186fe3d",
   "metadata": {
    "scrolled": true
   },
   "outputs": [
    {
     "name": "stdout",
     "output_type": "stream",
     "text": [
      "Node inserted at the end!\n",
      "\n",
      "Node inserted at the beginning!\n",
      "\n",
      "Node inserted at the beginning!\n",
      "\n",
      "Node inserted at the end!\n",
      "\n",
      "Node inserted at position 3!\n",
      "\n"
     ]
    },
    {
     "data": {
      "text/plain": [
       "'Wed-->Tues-->Fri-->Mon-->Sun'"
      ]
     },
     "execution_count": 2,
     "metadata": {},
     "output_type": "execute_result"
    }
   ],
   "source": [
    "sll = SinglyLinkedList()\n",
    "sll.insertAtBeg('Mon')\n",
    "sll.insertAtBeg('Tues')\n",
    "sll.insertAtBeg('Wed')\n",
    "sll.insertAtEnd('Sun')\n",
    "sll.insertAtPos(3,'Fri')\n",
    "sll.printList()\n",
    "\n",
    "\n",
    "# sll.lenOfList()"
   ]
  },
  {
   "cell_type": "code",
   "execution_count": 3,
   "id": "9bdc3356",
   "metadata": {},
   "outputs": [
    {
     "name": "stdout",
     "output_type": "stream",
     "text": [
      "Node deleted from position 3!\n",
      "\n"
     ]
    }
   ],
   "source": [
    "sll.deleteFromPos(3)\n"
   ]
  },
  {
   "cell_type": "code",
   "execution_count": 4,
   "id": "4b0607a2",
   "metadata": {},
   "outputs": [],
   "source": [
    "sll.deleteFromBeg()\n"
   ]
  },
  {
   "cell_type": "code",
   "execution_count": 5,
   "id": "01b6869e",
   "metadata": {},
   "outputs": [],
   "source": [
    "sll.deleteFromEnd()\n"
   ]
  },
  {
   "cell_type": "code",
   "execution_count": 6,
   "id": "4dc9cdfa",
   "metadata": {},
   "outputs": [
    {
     "name": "stdout",
     "output_type": "stream",
     "text": [
      "Linked List is empty, node added!\n",
      "\n"
     ]
    }
   ],
   "source": [
    "test =SinglyLinkedList()\n",
    "test.insertAtPos(3,'hi')"
   ]
  }
 ],
 "metadata": {
  "kernelspec": {
   "display_name": "Python 3",
   "language": "python",
   "name": "python3"
  },
  "language_info": {
   "codemirror_mode": {
    "name": "ipython",
    "version": 3
   },
   "file_extension": ".py",
   "mimetype": "text/x-python",
   "name": "python",
   "nbconvert_exporter": "python",
   "pygments_lexer": "ipython3",
   "version": "3.8.8"
  }
 },
 "nbformat": 4,
 "nbformat_minor": 5
}
