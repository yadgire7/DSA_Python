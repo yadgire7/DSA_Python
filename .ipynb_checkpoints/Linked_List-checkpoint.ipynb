{
 "cells": [
  {
   "cell_type": "markdown",
   "id": "19ff5641",
   "metadata": {},
   "source": [
    "Implementation of linked list using python"
   ]
  },
  {
   "cell_type": "markdown",
   "id": "2d0192fe",
   "metadata": {},
   "source": [
    "Linked list can be used in handling sequential data when the size of the data is not known before hand (eg. )"
   ]
  },
  {
   "cell_type": "code",
   "execution_count": 28,
   "id": "ec24ae25",
   "metadata": {},
   "outputs": [],
   "source": [
    "\n",
    "class Node:\n",
    "    #constructor\n",
    "    def __init__(self, data=None, next=None):\n",
    "        self.data=data\n",
    "        self.next=next\n",
    "        \n",
    "class LinkedList():\n",
    "    def __init__(self):\n",
    "        self.head=None\n",
    "    def isEmpty(self):\n",
    "        return self.head==None\n",
    "    \n",
    "    def insertAtBeg(self,data):\n",
    "        node = Node(data,self.head)\n",
    "        node.next=head\n",
    "        self.head=node\n",
    "    \n",
    "    def printList(self):\n",
    "        lst=''\n",
    "        if self.isEmpty():\n",
    "            print('List is empty!\\n')\n",
    "            return\n",
    "        else:\n",
    "            itr = self.head\n",
    "            while itr:\n",
    "                lst=print(itr.data)\n",
    "                if itr.next is not None:\n",
    "                    lst.join('-->')\n",
    "                itr=itr.next\n",
    "            return lst"
   ]
  },
  {
   "cell_type": "code",
   "execution_count": 29,
   "id": "6186fe3d",
   "metadata": {},
   "outputs": [
    {
     "ename": "NameError",
     "evalue": "name 'head' is not defined",
     "output_type": "error",
     "traceback": [
      "\u001b[1;31m---------------------------------------------------------------------------\u001b[0m",
      "\u001b[1;31mNameError\u001b[0m                                 Traceback (most recent call last)",
      "\u001b[1;32m<ipython-input-29-dbc3a6868c02>\u001b[0m in \u001b[0;36m<module>\u001b[1;34m\u001b[0m\n\u001b[0;32m      1\u001b[0m \u001b[0msll\u001b[0m \u001b[1;33m=\u001b[0m \u001b[0mLinkedList\u001b[0m\u001b[1;33m(\u001b[0m\u001b[1;33m)\u001b[0m\u001b[1;33m\u001b[0m\u001b[1;33m\u001b[0m\u001b[0m\n\u001b[1;32m----> 2\u001b[1;33m \u001b[0msll\u001b[0m\u001b[1;33m.\u001b[0m\u001b[0minsertAtBeg\u001b[0m\u001b[1;33m(\u001b[0m\u001b[1;34m'Mon'\u001b[0m\u001b[1;33m)\u001b[0m\u001b[1;33m\u001b[0m\u001b[1;33m\u001b[0m\u001b[0m\n\u001b[0m\u001b[0;32m      3\u001b[0m \u001b[0msll\u001b[0m\u001b[1;33m.\u001b[0m\u001b[0minsertAtBeg\u001b[0m\u001b[1;33m(\u001b[0m\u001b[1;34m'Tues'\u001b[0m\u001b[1;33m)\u001b[0m\u001b[1;33m\u001b[0m\u001b[1;33m\u001b[0m\u001b[0m\n\u001b[0;32m      4\u001b[0m \u001b[0msll\u001b[0m\u001b[1;33m.\u001b[0m\u001b[0minsertAtBeg\u001b[0m\u001b[1;33m(\u001b[0m\u001b[1;34m'Wed'\u001b[0m\u001b[1;33m)\u001b[0m\u001b[1;33m\u001b[0m\u001b[1;33m\u001b[0m\u001b[0m\n\u001b[0;32m      5\u001b[0m \u001b[0msll\u001b[0m\u001b[1;33m.\u001b[0m\u001b[0mprintList\u001b[0m\u001b[1;33m(\u001b[0m\u001b[1;33m)\u001b[0m\u001b[1;33m\u001b[0m\u001b[1;33m\u001b[0m\u001b[0m\n",
      "\u001b[1;32m<ipython-input-28-4ea7af85e829>\u001b[0m in \u001b[0;36minsertAtBeg\u001b[1;34m(self, data)\u001b[0m\n\u001b[0;32m     13\u001b[0m     \u001b[1;32mdef\u001b[0m \u001b[0minsertAtBeg\u001b[0m\u001b[1;33m(\u001b[0m\u001b[0mself\u001b[0m\u001b[1;33m,\u001b[0m\u001b[0mdata\u001b[0m\u001b[1;33m)\u001b[0m\u001b[1;33m:\u001b[0m\u001b[1;33m\u001b[0m\u001b[1;33m\u001b[0m\u001b[0m\n\u001b[0;32m     14\u001b[0m         \u001b[0mnode\u001b[0m \u001b[1;33m=\u001b[0m \u001b[0mNode\u001b[0m\u001b[1;33m(\u001b[0m\u001b[0mdata\u001b[0m\u001b[1;33m,\u001b[0m\u001b[0mself\u001b[0m\u001b[1;33m.\u001b[0m\u001b[0mhead\u001b[0m\u001b[1;33m)\u001b[0m\u001b[1;33m\u001b[0m\u001b[1;33m\u001b[0m\u001b[0m\n\u001b[1;32m---> 15\u001b[1;33m         \u001b[0mnode\u001b[0m\u001b[1;33m.\u001b[0m\u001b[0mnext\u001b[0m\u001b[1;33m=\u001b[0m\u001b[0mhead\u001b[0m\u001b[1;33m\u001b[0m\u001b[1;33m\u001b[0m\u001b[0m\n\u001b[0m\u001b[0;32m     16\u001b[0m         \u001b[0mself\u001b[0m\u001b[1;33m.\u001b[0m\u001b[0mhead\u001b[0m\u001b[1;33m=\u001b[0m\u001b[0mnode\u001b[0m\u001b[1;33m\u001b[0m\u001b[1;33m\u001b[0m\u001b[0m\n\u001b[0;32m     17\u001b[0m \u001b[1;33m\u001b[0m\u001b[0m\n",
      "\u001b[1;31mNameError\u001b[0m: name 'head' is not defined"
     ]
    }
   ],
   "source": [
    "sll = LinkedList()\n",
    "sll.insertAtBeg('Mon')\n",
    "sll.insertAtBeg('Tues')\n",
    "sll.insertAtBeg('Wed')\n",
    "sll.printList()"
   ]
  },
  {
   "cell_type": "code",
   "execution_count": null,
   "id": "da74e2d4",
   "metadata": {},
   "outputs": [],
   "source": []
  }
 ],
 "metadata": {
  "kernelspec": {
   "display_name": "Python 3",
   "language": "python",
   "name": "python3"
  },
  "language_info": {
   "codemirror_mode": {
    "name": "ipython",
    "version": 3
   },
   "file_extension": ".py",
   "mimetype": "text/x-python",
   "name": "python",
   "nbconvert_exporter": "python",
   "pygments_lexer": "ipython3",
   "version": "3.8.8"
  }
 },
 "nbformat": 4,
 "nbformat_minor": 5
}
