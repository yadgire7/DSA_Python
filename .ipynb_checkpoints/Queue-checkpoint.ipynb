{
 "cells": [
  {
   "cell_type": "markdown",
   "id": "c612942e",
   "metadata": {},
   "source": [
    "- Queue is a linear data structure.\n",
    "- It follows FIFO (First In First Out) principle aka Last In Last Out (LILO)\n",
    "- It has 2 ends: front and rear\n",
    "- The element is inserted from the rear end and it deleted from the rear end\n",
    "- Major operation: Enque(data) and Deque()"
   ]
  },
  {
   "cell_type": "markdown",
   "id": "58bd04f5",
   "metadata": {},
   "source": [
    "## Implementation using List"
   ]
  },
  {
   "cell_type": "code",
   "execution_count": 49,
   "id": "a7a4b2db",
   "metadata": {},
   "outputs": [],
   "source": [
    "class Queue(object):\n",
    "    def __init__(self):\n",
    "        self.front=None\n",
    "        self.rear = None\n",
    "        self.que=[]\n",
    "        self.limit=7\n",
    "        \n",
    "    def getSize(self):\n",
    "        return len(self.que)\n",
    "    \n",
    "    def isEmpty(self):\n",
    "        if self.getSize()==0:\n",
    "            return True\n",
    "        else:\n",
    "            return False\n",
    "        \n",
    "    def isFull(self):\n",
    "        if len(self.que)==self.limit:\n",
    "            return True\n",
    "        else:\n",
    "            return False\n",
    "    \n",
    "    def printQueue(self):\n",
    "        print(self.que)\n",
    "    \n",
    "    def getFront(self):\n",
    "        if self.isEmpty():\n",
    "            return \"Underflow\"\n",
    "        else:\n",
    "            print(self.que[0])\n",
    "    \n",
    "    def getRear(self):\n",
    "        if self.isEmpty():\n",
    "            return \"Underflow\"\n",
    "        else:\n",
    "            print(self.que[-1])\n",
    "    \n",
    "    def Enque(self,data):\n",
    "        if self.isFull():\n",
    "            print(\"Overflow!\\n\")\n",
    "        else:\n",
    "            self.que.append(data)\n",
    "            self.printQueue()\n",
    "    \n",
    "    def Deque(self):\n",
    "        if self.isEmpty():\n",
    "            print(\"Underflow\\n\")\n",
    "        else:\n",
    "            self.que.pop(0)\n",
    "            self.printQueue()"
   ]
  },
  {
   "cell_type": "code",
   "execution_count": 50,
   "id": "52e15db8",
   "metadata": {},
   "outputs": [
    {
     "name": "stdout",
     "output_type": "stream",
     "text": [
      "[7]\n",
      "[7, 8]\n",
      "7\n",
      "[7, 8, 9]\n",
      "[8, 9]\n",
      "[8, 9, 10]\n",
      "8\n",
      "10\n"
     ]
    }
   ],
   "source": [
    "q=Queue()\n",
    "q.Enque(7)\n",
    "q.Enque(8)\n",
    "q.getFront()\n",
    "q.Enque(9)\n",
    "q.Deque()\n",
    "q.Enque(10)\n",
    "q.getFront()\n",
    "q.getRear()"
   ]
  },
  {
   "cell_type": "code",
   "execution_count": null,
   "id": "827ab0b5",
   "metadata": {},
   "outputs": [],
   "source": []
  }
 ],
 "metadata": {
  "kernelspec": {
   "display_name": "Python 3",
   "language": "python",
   "name": "python3"
  },
  "language_info": {
   "codemirror_mode": {
    "name": "ipython",
    "version": 3
   },
   "file_extension": ".py",
   "mimetype": "text/x-python",
   "name": "python",
   "nbconvert_exporter": "python",
   "pygments_lexer": "ipython3",
   "version": "3.8.8"
  }
 },
 "nbformat": 4,
 "nbformat_minor": 5
}
