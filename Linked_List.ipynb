{
 "cells": [
  {
   "cell_type": "markdown",
   "id": "19ff5641",
   "metadata": {},
   "source": [
    "Implementation of linked list using python"
   ]
  },
  {
   "cell_type": "markdown",
   "id": "07596f5c",
   "metadata": {},
   "source": [
    "Linked list can be used in handling sequential data when the size of the data is not known before hand (eg. )"
   ]
  },
  {
   "cell_type": "code",
   "execution_count": 49,
   "id": "ec24ae25",
   "metadata": {},
   "outputs": [],
   "source": [
    "\n",
    "class Node:\n",
    "    #constructor\n",
    "    def __init__(self, data=None, next=None):\n",
    "        self.data=data\n",
    "        self.next=next\n",
    "        \n",
    "class LinkedList():\n",
    "    def __init__(self):\n",
    "        self.head=None\n",
    "    def isEmpty(self):\n",
    "        return self.head==None\n",
    "    \n",
    "    def insertAtBeg(self,data):\n",
    "        node = Node(data,self.head)\n",
    "        if self.isEmpty():\n",
    "            self.head=node\n",
    "            node.next=None\n",
    "        else:\n",
    "            node.next=self.head\n",
    "            self.head=node\n",
    "            \n",
    "    def insertAtEnd(self,data):\n",
    "        node = Node(data,self.head)\n",
    "        if self.isEmpty():\n",
    "            node.next=None\n",
    "            self.head=node\n",
    "        else:\n",
    "            itr = self.head\n",
    "            while itr.next is not None:\n",
    "                itr=itr.next\n",
    "            node.next=None\n",
    "            itr.next=node\n",
    "                \n",
    "    def deleteFromBeg()\n",
    "    \n",
    "    def printList(self):\n",
    "        lst=''\n",
    "        joiner='-->'\n",
    "        if self.isEmpty():\n",
    "            print('List is empty!\\n')\n",
    "            return\n",
    "        else:\n",
    "            itr = self.head\n",
    "            while itr:\n",
    "                lst+=str(itr.data)\n",
    "                if itr.next is not None:\n",
    "                    lst=lst+joiner\n",
    "                itr=itr.next\n",
    "                \n",
    "            return lst"
   ]
  },
  {
   "cell_type": "code",
   "execution_count": 50,
   "id": "6186fe3d",
   "metadata": {},
   "outputs": [
    {
     "data": {
      "text/plain": [
       "'Wed-->Tues-->Mon-->SUn'"
      ]
     },
     "execution_count": 50,
     "metadata": {},
     "output_type": "execute_result"
    }
   ],
   "source": [
    "sll = LinkedList()\n",
    "sll.insertAtBeg('Mon')\n",
    "sll.insertAtBeg('Tues')\n",
    "sll.insertAtBeg('Wed')\n",
    "sll.insertAtEnd('Sun')\n",
    "sll.printList()"
   ]
  },
  {
   "cell_type": "code",
   "execution_count": null,
   "id": "cb88ebda",
   "metadata": {},
   "outputs": [],
   "source": []
  }
 ],
 "metadata": {
  "kernelspec": {
   "display_name": "Python 3",
   "language": "python",
   "name": "python3"
  },
  "language_info": {
   "codemirror_mode": {
    "name": "ipython",
    "version": 3
   },
   "file_extension": ".py",
   "mimetype": "text/x-python",
   "name": "python",
   "nbconvert_exporter": "python",
   "pygments_lexer": "ipython3",
   "version": "3.8.8"
  }
 },
 "nbformat": 4,
 "nbformat_minor": 5
}
