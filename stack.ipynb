{
 "cells": [
  {
   "cell_type": "markdown",
   "id": "373071f5",
   "metadata": {},
   "source": [
    "- Stack is a linear data structure\n",
    "- Follows LIFO priciple (Last In First Out) aka FILO\n",
    "- Inserting element = push\n",
    "- Deleting element = pop\n",
    "- pop from empty stack (underflow)\n",
    "- push into full stack = (overflow) ......... full stack.. hehe\n",
    "- Stack ADT:\n",
    "    basic operations:\n",
    "        a. push(data)\n",
    "        b. int pop()\n",
    "    other operations:\n",
    "        a. top() returns the last inserted element\n",
    "        b. size() returns the number of elements in the stack\n",
    "        c. isEmpty() checks whether the stack is empty\n",
    "        d. isFUll() checks whether the stack is full.\n",
    "           Note: isFull() can be used only if the stack is created statically (i.e it is fixed size, created using list(array)), if the stack is created dynamically (using linked list), then we will have to create a variable maximum_size and check if the limit is reached.\n",
    "\n",
    "- Applications: \n",
    "    * Balancing parenthesis\n",
    "    * infix to postfix\n",
    "    * implementing function calls\n",
    "    * Browing history in web browser\n",
    "    * undo feature in text editor"
   ]
  },
  {
   "cell_type": "markdown",
   "id": "d24326c0",
   "metadata": {},
   "source": [
    "### Stack implementation using list (array)"
   ]
  },
  {
   "cell_type": "code",
   "execution_count": 44,
   "id": "e884117e",
   "metadata": {},
   "outputs": [],
   "source": [
    "class Stack:\n",
    "# dynamic stack using list (no overflow condition)    \n",
    "    \n",
    "    def __init__(self, stack=[],data=None):\n",
    "        self.stack=stack\n",
    "        self.data = data\n",
    "    \n",
    "    def isEmpty(self):\n",
    "        return len(self.stack)==0\n",
    "    \n",
    "    def getTop(self):\n",
    "        if self.isEmpty():\n",
    "            print(\"Underflow!\")\n",
    "        else:\n",
    "            return self.stack[len(self.stack)-1]\n",
    "    \n",
    "    \n",
    "    def push(self,data):\n",
    "        self.stack.append(data)\n",
    "        print(f\"{data} pushed onto the stack!\")\n",
    "        self.printStack()\n",
    "    \n",
    "    def pop(self):\n",
    "        if self.isEmpty():\n",
    "            print(\"Underflow!\")\n",
    "        else:\n",
    "            ele = self.stack[len(self.stack)-1]\n",
    "            del self.stack[len(self.stack)-1]\n",
    "            print(f\"{ele} popped from the stack!\")\n",
    "            self.printStack()\n",
    "    \n",
    "    def printStack(self):\n",
    "        rev = self.stack\n",
    "        rev.reverse()\n",
    "        print(rev)"
   ]
  },
  {
   "cell_type": "code",
   "execution_count": 45,
   "id": "0c1bf063",
   "metadata": {},
   "outputs": [
    {
     "name": "stdout",
     "output_type": "stream",
     "text": [
      "Underflow!\n",
      "7 pushed onto the stack!\n",
      "[7]\n",
      "9 pushed onto the stack!\n",
      "[9, 7]\n",
      "5 pushed onto the stack!\n",
      "[5, 7, 9]\n",
      "9 popped from the stack!\n",
      "[7, 5]\n"
     ]
    }
   ],
   "source": [
    "s = Stack()\n",
    "s.pop()\n",
    "s.isEmpty()\n",
    "s.push(7)\n",
    "s.push(9)\n",
    "s.push(5)\n",
    "s.pop()"
   ]
  },
  {
   "cell_type": "markdown",
   "id": "2dc8842c",
   "metadata": {},
   "source": [
    "## Stack implementation using linked list"
   ]
  },
  {
   "cell_type": "code",
   "execution_count": 93,
   "id": "e52a4689",
   "metadata": {},
   "outputs": [],
   "source": [
    "class Node():\n",
    "    def __init__(self,data=None,next=None):\n",
    "        self.data = data\n",
    "        self.next = next\n",
    "class StackLL():\n",
    "    def __init__(self):\n",
    "        self.head=None\n",
    "    def isEmpty(self):\n",
    "        if self.head==None:\n",
    "            return True\n",
    "        else:\n",
    "            return False\n",
    "    def top(self):\n",
    "        if self.isEmpty():\n",
    "            return \"Empty!\"\n",
    "        else:\n",
    "            return self.head.data\n",
    "    def push(self,data):          # similar to insert from beginning\n",
    "        temp = Node(data,self.head)\n",
    "        if self.isEmpty():\n",
    "            self.head=temp\n",
    "            temp.next=None\n",
    "        else:\n",
    "            temp.next=self.head\n",
    "            self.head = temp\n",
    "            \n",
    "    def pop(self):                # similar to delete from beginning\n",
    "        if self.isEmpty():\n",
    "            print(\"Underflow!\\n\")\n",
    "        else:\n",
    "            start = self.head\n",
    "            temp = self.head.next\n",
    "            print (\"Popped element: \",self.top())\n",
    "            del start\n",
    "            self.head = temp\n",
    "            \n",
    "    def printStack(self):\n",
    "        if self.isEmpty():\n",
    "            print(\"Stack is empty!\\n\")\n",
    "        else:\n",
    "            temp=self.head\n",
    "            while temp is not None:\n",
    "                print(f'{temp.data}\\n')\n",
    "                temp=temp.next\n",
    "    "
   ]
  },
  {
   "cell_type": "code",
   "execution_count": 94,
   "id": "2888d766",
   "metadata": {},
   "outputs": [
    {
     "name": "stdout",
     "output_type": "stream",
     "text": [
      "Underflow!\n",
      "\n"
     ]
    }
   ],
   "source": [
    "s = StackLL()\n",
    "s.pop()"
   ]
  },
  {
   "cell_type": "code",
   "execution_count": 95,
   "id": "db8a9a6d",
   "metadata": {},
   "outputs": [
    {
     "name": "stdout",
     "output_type": "stream",
     "text": [
      "7\n",
      "\n"
     ]
    }
   ],
   "source": [
    "s.push(7)\n",
    "s.printStack()"
   ]
  },
  {
   "cell_type": "code",
   "execution_count": 96,
   "id": "aa5caf6c",
   "metadata": {},
   "outputs": [
    {
     "name": "stdout",
     "output_type": "stream",
     "text": [
      "8\n",
      "\n",
      "7\n",
      "\n"
     ]
    }
   ],
   "source": [
    "s.push(8)\n",
    "s.printStack()\n"
   ]
  },
  {
   "cell_type": "code",
   "execution_count": 97,
   "id": "cbb5e3e5",
   "metadata": {},
   "outputs": [
    {
     "data": {
      "text/plain": [
       "8"
      ]
     },
     "execution_count": 97,
     "metadata": {},
     "output_type": "execute_result"
    }
   ],
   "source": [
    "s.top()"
   ]
  },
  {
   "cell_type": "code",
   "execution_count": 98,
   "id": "a404836b",
   "metadata": {},
   "outputs": [
    {
     "name": "stdout",
     "output_type": "stream",
     "text": [
      "5\n",
      "\n",
      "8\n",
      "\n",
      "7\n",
      "\n"
     ]
    },
    {
     "data": {
      "text/plain": [
       "5"
      ]
     },
     "execution_count": 98,
     "metadata": {},
     "output_type": "execute_result"
    }
   ],
   "source": [
    "s.push(5)\n",
    "s.printStack()\n",
    "s.top()"
   ]
  },
  {
   "cell_type": "code",
   "execution_count": 99,
   "id": "2ee8415f",
   "metadata": {},
   "outputs": [
    {
     "name": "stdout",
     "output_type": "stream",
     "text": [
      "Popped element:  5\n"
     ]
    }
   ],
   "source": [
    "s.pop()"
   ]
  },
  {
   "cell_type": "code",
   "execution_count": null,
   "id": "d7d3ddfa",
   "metadata": {},
   "outputs": [],
   "source": []
  }
 ],
 "metadata": {
  "kernelspec": {
   "display_name": "Python 3",
   "language": "python",
   "name": "python3"
  },
  "language_info": {
   "codemirror_mode": {
    "name": "ipython",
    "version": 3
   },
   "file_extension": ".py",
   "mimetype": "text/x-python",
   "name": "python",
   "nbconvert_exporter": "python",
   "pygments_lexer": "ipython3",
   "version": "3.8.8"
  }
 },
 "nbformat": 4,
 "nbformat_minor": 5
}
